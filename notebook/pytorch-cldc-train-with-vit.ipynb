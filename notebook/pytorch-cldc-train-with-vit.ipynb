{
 "cells": [
  {
   "cell_type": "markdown",
   "metadata": {
    "papermill": {
     "duration": 0.014961,
     "end_time": "2021-01-21T03:22:41.680082",
     "exception": false,
     "start_time": "2021-01-21T03:22:41.665121",
     "status": "completed"
    },
    "tags": []
   },
   "source": [
    "# **Import 3rdparty**"
   ]
  },
  {
   "cell_type": "code",
   "execution_count": 55,
   "metadata": {
    "papermill": {
     "duration": 3.132915,
     "end_time": "2021-01-21T03:22:44.828187",
     "exception": false,
     "start_time": "2021-01-21T03:22:41.695272",
     "status": "completed"
    },
    "tags": []
   },
   "outputs": [],
   "source": [
    "import os\n",
    "import pandas as pd\n",
    "import numpy as np\n",
    "import random\n",
    "import cv2\n",
    "\n",
    "import torch\n",
    "import torch.nn as nn\n",
    "from torch.utils.data import DataLoader, Dataset\n",
    "import torch.nn.functional as F\n",
    "from torch.cuda.amp import autocast, GradScaler\n",
    "\n",
    "import timm\n",
    "from matplotlib import pyplot as plt\n",
    "from sklearn.model_selection import StratifiedKFold\n",
    "\n",
    "from scipy.special import softmax\n",
    "\n",
    "import albumentations as A\n",
    "from albumentations.pytorch import ToTensorV2\n",
    "from tqdm import tqdm"
   ]
  },
  {
   "cell_type": "code",
   "execution_count": 4,
   "metadata": {
    "papermill": {
     "duration": 0.023367,
     "end_time": "2021-01-21T03:22:44.867444",
     "exception": false,
     "start_time": "2021-01-21T03:22:44.844077",
     "status": "completed"
    },
    "tags": []
   },
   "outputs": [],
   "source": [
    "# def seed_everything(seed):\n",
    "#     random.seed(seed)\n",
    "#     os.environ['PYTHONHASHSEED'] = str(seed)\n",
    "#     np.random.seed(seed)\n",
    "#     torch.manual_seed(seed)\n",
    "#     torch.cuda.manual_seed(seed)\n",
    "#     torch.backends.cudnn.deterministic = True\n",
    "#     torch.backends.cudnn.benchmark = True\n",
    "    \n",
    "    \n",
    "def seed_everything(seed: int):\n",
    "    if not seed:\n",
    "        seed = 10\n",
    "\n",
    "    print(\"[ Using Seed : \", seed, \" ]\")\n",
    "    os.environ['PYTHONHASHSEED'] = str(seed)  # set PYTHONHASHSEED env var at fixed value\n",
    "    np.random.seed(seed) # for numpy pseudo-random generator\n",
    "    random.seed(seed) # set fixed value for python built-in pseudo-random generator\n",
    "    torch.manual_seed(seed)\n",
    "    torch.cuda.manual_seed_all(seed)\n",
    "    torch.cuda.manual_seed(seed) # pytorch (both CPU and CUDA)\n",
    "    torch.backends.cudnn.deterministic = True\n",
    "    torch.backends.cudnn.benchmark = False\n",
    "    torch.backends.cudnn.enabled = False\n"
   ]
  },
  {
   "cell_type": "markdown",
   "metadata": {
    "papermill": {
     "duration": 0.015269,
     "end_time": "2021-01-21T03:22:44.970990",
     "exception": false,
     "start_time": "2021-01-21T03:22:44.955721",
     "status": "completed"
    },
    "tags": []
   },
   "source": [
    "# **Load Image**"
   ]
  },
  {
   "cell_type": "code",
   "execution_count": 10,
   "metadata": {
    "papermill": {
     "duration": 0.022441,
     "end_time": "2021-01-21T03:22:45.009181",
     "exception": false,
     "start_time": "2021-01-21T03:22:44.986740",
     "status": "completed"
    },
    "tags": []
   },
   "outputs": [],
   "source": [
    "def load_image(image_path):\n",
    "    img = cv2.imread(image_path)\n",
    "    img = cv2.cvtColor(img, cv2.COLOR_BGR2RGB)\n",
    "    return img"
   ]
  },
  {
   "cell_type": "markdown",
   "metadata": {
    "papermill": {
     "duration": 0.015373,
     "end_time": "2021-01-21T03:22:45.040070",
     "exception": false,
     "start_time": "2021-01-21T03:22:45.024697",
     "status": "completed"
    },
    "tags": []
   },
   "source": [
    "# **CassavaDataset**"
   ]
  },
  {
   "cell_type": "code",
   "execution_count": 11,
   "metadata": {
    "papermill": {
     "duration": 0.026642,
     "end_time": "2021-01-21T03:22:45.082498",
     "exception": false,
     "start_time": "2021-01-21T03:22:45.055856",
     "status": "completed"
    },
    "tags": []
   },
   "outputs": [],
   "source": [
    "class CassavaDataset(Dataset):\n",
    "    def __init__(self, data_dir, df, transforms=None, output_label=True):\n",
    "        self.data_dir = data_dir\n",
    "        self.df = df\n",
    "        self.transforms = transforms\n",
    "        self.output_label = output_label\n",
    "\n",
    "    def __len__(self):\n",
    "        return len(self.df)\n",
    "\n",
    "    def __getitem__(self, index):\n",
    "        image_infos = self.df.iloc[index]\n",
    "        image_path = self.data_dir + image_infos.image_id\n",
    "\n",
    "        image = load_image(image_path)\n",
    "\n",
    "        if image is None:\n",
    "            raise FileNotFoundError(image_path)\n",
    "\n",
    "        ### augment\n",
    "        if self.transforms is not None:\n",
    "            image = self.transforms(image=image)['image']\n",
    "        else:\n",
    "            image = torch.from_numpy(image)\n",
    "\n",
    "        if self.output_label:\n",
    "            return image, image_infos.label\n",
    "        else:\n",
    "            return image       "
   ]
  },
  {
   "cell_type": "markdown",
   "metadata": {
    "papermill": {
     "duration": 0.015448,
     "end_time": "2021-01-21T03:22:45.113605",
     "exception": false,
     "start_time": "2021-01-21T03:22:45.098157",
     "status": "completed"
    },
    "tags": []
   },
   "source": [
    "# **CassavaClassifier**"
   ]
  },
  {
   "cell_type": "code",
   "execution_count": 12,
   "metadata": {
    "papermill": {
     "duration": 0.024696,
     "end_time": "2021-01-21T03:22:45.154067",
     "exception": false,
     "start_time": "2021-01-21T03:22:45.129371",
     "status": "completed"
    },
    "tags": []
   },
   "outputs": [],
   "source": [
    "# ====================================================\n",
    "# Vit Model\n",
    "# ====================================================\n",
    "class CustomViT(nn.Module):\n",
    "    def __init__(self, model_arch, num_classes, pretrained=False):\n",
    "        super().__init__()\n",
    "        self.model = timm.create_model(model_arch, pretrained=pretrained)\n",
    "        ### vit\n",
    "        num_features = self.model.head.in_features\n",
    "        self.model.head = nn.Linear(num_features, num_classes)\n",
    "        '''\n",
    "        self.model.classifier = nn.Sequential(\n",
    "            nn.Dropout(0.3),\n",
    "            #nn.Linear(num_features, hidden_size,bias=True), nn.ELU(),\n",
    "            nn.Linear(num_features, num_classes, bias=True)\n",
    "        )\n",
    "        '''\n",
    "    def forward(self, x):\n",
    "        x = self.model(x)\n",
    "        return x\n",
    "    \n",
    "# ====================================================\n",
    "# ResNext Model\n",
    "# ====================================================\n",
    "class CustomResNext(nn.Module):\n",
    "    def __init__(self, model_arch, num_classes, pretrained=False):\n",
    "        super().__init__()\n",
    "        self.model = timm.create_model(model_arch, pretrained=pretrained)\n",
    "        #='resnext50_32x4d',\n",
    "        n_features = self.model.fc.in_features\n",
    "        self.model.fc = nn.Linear(n_features, num_classes)\n",
    "\n",
    "    def forward(self, x):\n",
    "        x = self.model(x)\n",
    "        return x\n",
    "    \n",
    "# ====================================================\n",
    "# EfficientNet Model\n",
    "# ====================================================\n",
    "class CustomEfficientNet(nn.Module):\n",
    "\n",
    "    def __init__(self, model_arch, num_classes, pretrained=False):\n",
    "        super().__init__()\n",
    "        self.model = timm.create_model(model_arch, pretrained=pretrained)\n",
    "        n_features = self.model.classifier.in_features\n",
    "        self.model.classifier = nn.Linear(n_features, num_classes)\n",
    "\n",
    "    def forward(self, x):\n",
    "        x = self.model(x)\n",
    "        return x"
   ]
  },
  {
   "cell_type": "markdown",
   "metadata": {
    "papermill": {
     "duration": 0.015598,
     "end_time": "2021-01-21T03:22:45.185473",
     "exception": false,
     "start_time": "2021-01-21T03:22:45.169875",
     "status": "completed"
    },
    "tags": []
   },
   "source": [
    "# **Train and Val transforms**"
   ]
  },
  {
   "cell_type": "code",
   "execution_count": 13,
   "metadata": {
    "papermill": {
     "duration": 0.029921,
     "end_time": "2021-01-21T03:22:45.231249",
     "exception": false,
     "start_time": "2021-01-21T03:22:45.201328",
     "status": "completed"
    },
    "tags": []
   },
   "outputs": [],
   "source": [
    "def get_train_transforms(CFG):\n",
    "    return A.Compose([\n",
    "            A.RandomResizedCrop(height=CFG.image_size, width=CFG.image_size, p=0.5),\n",
    "            A.Transpose(p=0.5),\n",
    "            A.HorizontalFlip(p=0.5),\n",
    "            A.VerticalFlip(p=0.5),\n",
    "            A.RandomRotate90(p=0.5),\n",
    "            A.ShiftScaleRotate(p=0.5),\n",
    "            A.HueSaturationValue(hue_shift_limit=0.2, sat_shift_limit=0.2, val_shift_limit=0.2, p=0.5),\n",
    "            A.RandomBrightnessContrast(brightness_limit=(-0.1,0.1), contrast_limit=(-0.1, 0.1), p=0.5),\n",
    "            A.CenterCrop(CFG.image_size, CFG.image_size),\n",
    "            A.Normalize(mean=[0.485, 0.456, 0.406], std=[0.229, 0.224, 0.225], max_pixel_value=255.0, p=1.0),\n",
    "            A.CoarseDropout(p=0.5),\n",
    "            A.Cutout(p=0.5),\n",
    "            ToTensorV2(),\n",
    "        ],p=1.0)\n",
    "\n",
    "# def get_train_transforms(CFG):\n",
    "#     return A.Compose([\n",
    "#             #Resize(CFG.size, CFG.size),\n",
    "#             A.RandomResizedCrop(height=CFG.image_size, width=CFG.image_size, scale=(0.85, 1.0)),\n",
    "#             A.HorizontalFlip(p=0.5),\n",
    "#             A.RandomBrightnessContrast(p=0.2, brightness_limit=(-0.2, 0.2), contrast_limit=(-0.2, 0.2)),\n",
    "#             A.HueSaturationValue(p=0.2, hue_shift_limit=0.2, sat_shift_limit=0.2, val_shift_limit=0.2),\n",
    "#             A.ShiftScaleRotate(p=0.2, shift_limit=0.0625, scale_limit=0.2, rotate_limit=20),\n",
    "#             A.CoarseDropout(p=0.2),\n",
    "#             A.Cutout(p=0.2, max_h_size=16, max_w_size=16, fill_value=(0., 0., 0.), num_holes=16),\n",
    "#             A.Normalize(\n",
    "#                 mean=[0.485, 0.456, 0.406],\n",
    "#                 std=[0.229, 0.224, 0.225],\n",
    "#             ),\n",
    "#             ToTensorV2(),\n",
    "#         ], p=1.0)\n",
    "\n",
    "def get_val_transforms(cfg):\n",
    "    return A.Compose([\n",
    "            A.CenterCrop(CFG.image_size, CFG.image_size, p=0.5),\n",
    "            A.Resize(CFG.image_size, CFG.image_size),\n",
    "            A.Normalize(mean=[0.485, 0.456, 0.406], std=[0.229, 0.224, 0.225], max_pixel_value=255.0, p=1.0),\n",
    "            ToTensorV2(),\n",
    "        ],p=1.0)\n"
   ]
  },
  {
   "cell_type": "markdown",
   "metadata": {
    "papermill": {
     "duration": 0.015792,
     "end_time": "2021-01-21T03:22:45.262908",
     "exception": false,
     "start_time": "2021-01-21T03:22:45.247116",
     "status": "completed"
    },
    "tags": []
   },
   "source": [
    "# **Train and Val data loader**"
   ]
  },
  {
   "cell_type": "code",
   "execution_count": 44,
   "metadata": {
    "papermill": {
     "duration": 0.02662,
     "end_time": "2021-01-21T03:22:45.305430",
     "exception": false,
     "start_time": "2021-01-21T03:22:45.278810",
     "status": "completed"
    },
    "tags": []
   },
   "outputs": [],
   "source": [
    "def load_dataloader(CFG, df, train_idx, val_idx):\n",
    "    df_train = df.loc[train_idx,:].reset_index(drop=True)\n",
    "    df_val = df.loc[val_idx,:].reset_index(drop=True)\n",
    "\n",
    "    train_dataset = CassavaDataset(\n",
    "        CFG.train_data_dir,\n",
    "        df_train,\n",
    "        transforms=get_train_transforms(CFG), \n",
    "        output_label=True)\n",
    "\n",
    "    val_dataset = CassavaDataset(\n",
    "        CFG.train_data_dir,\n",
    "        df_val,\n",
    "        transforms=get_val_transforms(CFG), \n",
    "        output_label=True)\n",
    "\n",
    "    train_loader = torch.utils.data.DataLoader(\n",
    "        train_dataset,\n",
    "        batch_size=CFG.train_batch_size,\n",
    "        pin_memory=False,\n",
    "        drop_last=False,\n",
    "        shuffle=True,        \n",
    "        num_workers=CFG.num_workers,\n",
    "        #sampler=BalanceClassSampler(labels=train_['label'].values, mode=\"downsampling\")\n",
    "    )\n",
    "\n",
    "    val_loader = torch.utils.data.DataLoader(\n",
    "        val_dataset, \n",
    "        batch_size=CFG.val_batch_size,\n",
    "        num_workers=CFG.num_workers,\n",
    "        shuffle=False,\n",
    "        pin_memory=False,\n",
    "    )\n",
    "    \n",
    "    return train_loader, val_loader\n",
    "\n",
    "\n",
    "def load_valdataloader(df_val):\n",
    "    \n",
    "    val_dataset = CassavaDataset(\n",
    "        CFG.train_data_dir,\n",
    "        df_val,\n",
    "        transforms=get_val_transforms(CFG), \n",
    "        output_label=False\n",
    "    )\n",
    "        \n",
    "    val_loader = torch.utils.data.DataLoader(\n",
    "        val_dataset, \n",
    "        batch_size=CFG.val_batch_size,\n",
    "        num_workers=CFG.num_workers,\n",
    "        shuffle=False,\n",
    "        pin_memory=False,\n",
    "    )\n",
    "    \n",
    "    return val_loader"
   ]
  },
  {
   "cell_type": "markdown",
   "metadata": {
    "papermill": {
     "duration": 0.016438,
     "end_time": "2021-01-21T03:22:45.337743",
     "exception": false,
     "start_time": "2021-01-21T03:22:45.321305",
     "status": "completed"
    },
    "tags": []
   },
   "source": [
    "# **Train one epoch**"
   ]
  },
  {
   "cell_type": "code",
   "execution_count": 15,
   "metadata": {
    "papermill": {
     "duration": 0.031277,
     "end_time": "2021-01-21T03:22:45.385336",
     "exception": false,
     "start_time": "2021-01-21T03:22:45.354059",
     "status": "completed"
    },
    "tags": []
   },
   "outputs": [],
   "source": [
    "def train_one_epoch(epoch,model,loss_fn,optimizer,train_loader,device,scheduler=None,schd_batch_update=False):\n",
    "    model.train()\n",
    "    lr = optimizer.state_dict()['param_groups'][0]['lr']\n",
    "    \n",
    "    running_loss = None\n",
    "    pbar = tqdm(enumerate(train_loader),total=len(train_loader))\n",
    "    for step,(images,targets) in pbar:\n",
    "        images = images.to(device).float()\n",
    "        targets = targets.to(device).long()\n",
    "        \n",
    "        with autocast():\n",
    "            preds = model(images)\n",
    "            loss = loss_fn(preds,targets)\n",
    "        \n",
    "            scaler.scale(loss).backward()\n",
    "            if running_loss is None:\n",
    "                running_loss = loss.item()\n",
    "            else:\n",
    "                running_loss = running_loss* 0.99 + loss.item()*0.01\n",
    "                \n",
    "            if ((step + 1) % CFG.accum_iter == 0) or ((step + 1) == len(train_loader)):\n",
    "                scaler.step(optimizer)\n",
    "                scaler.update()\n",
    "                optimizer.zero_grad()\n",
    "                \n",
    "                if scheduler is not None and schd_batch_update:\n",
    "                    scheduler.step()\n",
    "            if ((step + 1) % CFG.accum_iter == 0) or ((step + 1) == len(train_loader)):\n",
    "                description = f'Train epoch {epoch} loss: {running_loss:.5f}'\n",
    "                pbar.set_description(description)\n",
    "                \n",
    "    if scheduler is not None and schd_batch_update:\n",
    "        scheduler.step()"
   ]
  },
  {
   "cell_type": "markdown",
   "metadata": {
    "papermill": {
     "duration": 0.015911,
     "end_time": "2021-01-21T03:22:45.417305",
     "exception": false,
     "start_time": "2021-01-21T03:22:45.401394",
     "status": "completed"
    },
    "tags": []
   },
   "source": [
    "# **Valid one epoch**"
   ]
  },
  {
   "cell_type": "code",
   "execution_count": 16,
   "metadata": {
    "papermill": {
     "duration": 0.03055,
     "end_time": "2021-01-21T03:22:45.464300",
     "exception": false,
     "start_time": "2021-01-21T03:22:45.433750",
     "status": "completed"
    },
    "tags": []
   },
   "outputs": [],
   "source": [
    "def valid_one_epoch(epoch,model,loss_fn,val_loader,device,scheduler=None,schd_loss_update=False):\n",
    "    model.eval()\n",
    "    \n",
    "    loss_sum = 0\n",
    "    sample_num = 0\n",
    "    preds_all = []\n",
    "    targets_all = []\n",
    "    scores = []\n",
    "    \n",
    "    pbar = tqdm(enumerate(val_loader),total=len(val_loader))\n",
    "    for step,(images,targets) in pbar:\n",
    "        images = images.to(device).float()\n",
    "        targets = targets.to(device).long()\n",
    "        preds = model(images)\n",
    "            \n",
    "        preds_all += [torch.argmax(preds,1).detach().cpu().numpy()]\n",
    "        targets_all += [targets.detach().cpu().numpy()]\n",
    "\n",
    "        loss = loss_fn(preds,targets)\n",
    "        loss_sum += loss.item()*targets.shape[0]\n",
    "        sample_num += targets.shape[0]\n",
    "           \n",
    "        if ((step + 1) % CFG.accum_iter == 0) or ((step + 1) == len(train_loader)):\n",
    "            description = f'Val epoch {epoch} loss: {loss_sum/sample_num:.5f}'\n",
    "            pbar.set_description(description)\n",
    "            \n",
    "    preds_all = np.concatenate(preds_all)\n",
    "    targets_all = np.concatenate(targets_all)\n",
    "    accuracy = (preds_all == targets_all).mean()\n",
    "    print(f'Validation multi-class accuracy = {accuracy:.5f}')\n",
    "    \n",
    "    if scheduler is not None:\n",
    "        if schd_loss_update:\n",
    "            scheduler.step(loss_sum/sample_num)\n",
    "        else:\n",
    "            scheduler.step()\n",
    "    \n",
    "    return accuracy"
   ]
  },
  {
   "cell_type": "markdown",
   "metadata": {
    "papermill": {
     "duration": 0.016189,
     "end_time": "2021-01-21T03:22:45.569644",
     "exception": false,
     "start_time": "2021-01-21T03:22:45.553455",
     "status": "completed"
    },
    "tags": []
   },
   "source": [
    "# **Label Smoothing Cross Entropy Loss**"
   ]
  },
  {
   "cell_type": "code",
   "execution_count": 17,
   "metadata": {
    "papermill": {
     "duration": 0.026269,
     "end_time": "2021-01-21T03:22:45.612480",
     "exception": false,
     "start_time": "2021-01-21T03:22:45.586211",
     "status": "completed"
    },
    "tags": []
   },
   "outputs": [],
   "source": [
    "class LabelSmoothingCrossEntropy(nn.Module):\n",
    "    \"\"\"\n",
    "    NLL loss with label smoothing.\n",
    "    \"\"\"\n",
    "    def __init__(self, smoothing=0.1):\n",
    "        \"\"\"\n",
    "        Constructor for the LabelSmoothing module.\n",
    "        :param smoothing: label smoothing factor\n",
    "        \"\"\"\n",
    "        super(LabelSmoothingCrossEntropy, self).__init__()\n",
    "        assert smoothing < 1.0\n",
    "        self.smoothing = smoothing\n",
    "        self.confidence = 1. - smoothing\n",
    "\n",
    "    def forward(self, x, target):\n",
    "        logprobs = F.log_softmax(x, dim=-1)\n",
    "        nll_loss = -logprobs.gather(dim=-1, index=target.unsqueeze(1))\n",
    "        nll_loss = nll_loss.squeeze(1)\n",
    "        smooth_loss = -logprobs.mean(dim=-1)\n",
    "        loss = self.confidence * nll_loss + self.smoothing * smooth_loss\n",
    "        return loss.mean()\n",
    "    \n",
    "class TaylorSoftmax(nn.Module):\n",
    "\n",
    "    def __init__(self, dim=1, n=2):\n",
    "        super(TaylorSoftmax, self).__init__()\n",
    "        assert n % 2 == 0\n",
    "        self.dim = dim\n",
    "        self.n = n\n",
    "\n",
    "    def forward(self, x):\n",
    "        \n",
    "        fn = torch.ones_like(x)\n",
    "        denor = 1.\n",
    "        for i in range(1, self.n+1):\n",
    "            denor *= i\n",
    "            fn = fn + x.pow(i) / denor\n",
    "        out = fn / fn.sum(dim=self.dim, keepdims=True)\n",
    "        return out\n",
    "\n",
    "# class LabelSmoothingLoss(nn.Module):\n",
    "\n",
    "#     def __init__(self, classes, smoothing=0.0, dim=-1): \n",
    "#         super(LabelSmoothingLoss, self).__init__() \n",
    "#         self.confidence = 1.0 - smoothing \n",
    "#         self.smoothing = smoothing \n",
    "#         self.cls = classes \n",
    "#         self.dim = dim \n",
    "#     def forward(self, pred, target): \n",
    "#         \"\"\"Taylor Softmax and log are already applied on the logits\"\"\"\n",
    "#         #pred = pred.log_softmax(dim=self.dim) \n",
    "#         with torch.no_grad(): \n",
    "#             true_dist = torch.zeros_like(pred) \n",
    "#             true_dist.fill_(self.smoothing / (self.cls - 1)) \n",
    "#             true_dist.scatter_(1, target.data.unsqueeze(1), self.confidence) \n",
    "#         return torch.mean(torch.sum(-true_dist * pred, dim=self.dim))\n",
    "    \n",
    "\n",
    "class TaylorCrossEntropyLoss(nn.Module):\n",
    "\n",
    "    def __init__(self, n=2, ignore_index=-1, reduction='mean', smoothing=0.2):\n",
    "        super(TaylorCrossEntropyLoss, self).__init__()\n",
    "        assert n % 2 == 0\n",
    "        self.taylor_softmax = TaylorSoftmax(dim=1, n=n)\n",
    "        self.reduction = reduction\n",
    "        self.ignore_index = ignore_index\n",
    "        self.lab_smooth = LabelSmoothingCrossEntropy(smoothing=smoothing)\n",
    "\n",
    "    def forward(self, logits, labels):\n",
    "\n",
    "        log_probs = self.taylor_softmax(logits).log()\n",
    "        #loss = F.nll_loss(log_probs, labels, reduction=self.reduction,\n",
    "        #        ignore_index=self.ignore_index)\n",
    "        loss = self.lab_smooth(log_probs, labels)\n",
    "        return loss"
   ]
  },
  {
   "cell_type": "markdown",
   "metadata": {},
   "source": [
    "# **EVAL**"
   ]
  },
  {
   "cell_type": "code",
   "execution_count": 69,
   "metadata": {},
   "outputs": [
    {
     "name": "stdout",
     "output_type": "stream",
     "text": [
      "[ Using Seed :  42  ]\n",
      "CFG seed is  42\n",
      "[ Using Seed :  42  ]\n",
      "training_df\n",
      "3    10527\n",
      "4     2061\n",
      "2     1909\n",
      "1     1751\n",
      "0      869\n",
      "Name: label, dtype: int64\n",
      "validation_df\n",
      "3    2631\n",
      "4     516\n",
      "2     477\n",
      "1     438\n",
      "0     218\n",
      "Name: label, dtype: int64\n"
     ]
    },
    {
     "name": "stderr",
     "output_type": "stream",
     "text": [
      "Train epoch 0 loss: 1.34617: 100%|██████████| 4280/4280 [11:39<00:00,  6.12it/s]\n",
      "Val epoch 0 loss: 1.47954: 100%|██████████| 1070/1070 [01:13<00:00, 14.61it/s]\n",
      "  0%|          | 0/4280 [00:00<?, ?it/s]"
     ]
    },
    {
     "name": "stdout",
     "output_type": "stream",
     "text": [
      "Validation multi-class accuracy = 0.62570\n",
      "Best model is saved\n",
      "accuracy = 0.6257009345794392 in epoch 0\n"
     ]
    },
    {
     "name": "stderr",
     "output_type": "stream",
     "text": [
      "Train epoch 1 loss: 1.28493: 100%|██████████| 4280/4280 [11:38<00:00,  6.13it/s]\n",
      "Val epoch 1 loss: 1.72804: 100%|██████████| 1070/1070 [01:13<00:00, 14.58it/s]\n",
      "  0%|          | 0/4280 [00:00<?, ?it/s]"
     ]
    },
    {
     "name": "stdout",
     "output_type": "stream",
     "text": [
      "Validation multi-class accuracy = 0.64416\n",
      "Best model is saved\n",
      "accuracy = 0.6441588785046729 in epoch 1\n"
     ]
    },
    {
     "name": "stderr",
     "output_type": "stream",
     "text": [
      "Train epoch 2 loss: 1.29045: 100%|██████████| 4280/4280 [12:02<00:00,  5.92it/s]\n",
      "Val epoch 2 loss: 1.73712: 100%|██████████| 1070/1070 [01:13<00:00, 14.60it/s]\n",
      "  0%|          | 0/4280 [00:00<?, ?it/s]"
     ]
    },
    {
     "name": "stdout",
     "output_type": "stream",
     "text": [
      "Validation multi-class accuracy = 0.65911\n",
      "Best model is saved\n",
      "accuracy = 0.6591121495327102 in epoch 2\n"
     ]
    },
    {
     "name": "stderr",
     "output_type": "stream",
     "text": [
      "Train epoch 3 loss: 1.27693: 100%|██████████| 4280/4280 [11:44<00:00,  6.08it/s]\n",
      "Val epoch 3 loss: 1.22849: 100%|██████████| 1070/1070 [01:17<00:00, 13.77it/s]\n",
      "  0%|          | 0/4280 [00:00<?, ?it/s]"
     ]
    },
    {
     "name": "stdout",
     "output_type": "stream",
     "text": [
      "Validation multi-class accuracy = 0.68294\n",
      "Best model is saved\n",
      "accuracy = 0.6829439252336449 in epoch 3\n"
     ]
    },
    {
     "name": "stderr",
     "output_type": "stream",
     "text": [
      "Train epoch 4 loss: 1.25110: 100%|██████████| 4280/4280 [11:50<00:00,  6.02it/s]\n",
      "Val epoch 4 loss: 1.57116: 100%|██████████| 1070/1070 [01:15<00:00, 14.09it/s]\n",
      "  0%|          | 0/4280 [00:00<?, ?it/s]"
     ]
    },
    {
     "name": "stdout",
     "output_type": "stream",
     "text": [
      "Validation multi-class accuracy = 0.68785\n",
      "Best model is saved\n",
      "accuracy = 0.6878504672897197 in epoch 4\n"
     ]
    },
    {
     "name": "stderr",
     "output_type": "stream",
     "text": [
      "Train epoch 5 loss: 1.24977: 100%|██████████| 4280/4280 [11:42<00:00,  6.09it/s]\n",
      "Val epoch 5 loss: 1.46568: 100%|██████████| 1070/1070 [01:12<00:00, 14.73it/s]\n",
      "  0%|          | 0/4280 [00:00<?, ?it/s]"
     ]
    },
    {
     "name": "stdout",
     "output_type": "stream",
     "text": [
      "Validation multi-class accuracy = 0.69626\n",
      "Best model is saved\n",
      "accuracy = 0.6962616822429907 in epoch 5\n"
     ]
    },
    {
     "name": "stderr",
     "output_type": "stream",
     "text": [
      "Train epoch 6 loss: 1.24354: 100%|██████████| 4280/4280 [11:38<00:00,  6.13it/s]\n",
      "Val epoch 6 loss: 1.31180: 100%|██████████| 1070/1070 [01:14<00:00, 14.35it/s]\n",
      "  0%|          | 1/4280 [00:00<10:35,  6.73it/s]"
     ]
    },
    {
     "name": "stdout",
     "output_type": "stream",
     "text": [
      "Validation multi-class accuracy = 0.64930\n",
      "accuracy = 0.6492990654205607 in epoch 6\n"
     ]
    },
    {
     "name": "stderr",
     "output_type": "stream",
     "text": [
      "Train epoch 7 loss: 1.19117: 100%|██████████| 4280/4280 [11:58<00:00,  5.96it/s]\n",
      "Val epoch 7 loss: 0.88048: 100%|██████████| 1070/1070 [01:15<00:00, 14.08it/s]\n"
     ]
    },
    {
     "name": "stdout",
     "output_type": "stream",
     "text": [
      "Validation multi-class accuracy = 0.74089\n",
      "Best model is saved\n",
      "accuracy = 0.7408878504672897 in epoch 7\n",
      "best accuracy = 0.7408878504672897 in epoch 7\n"
     ]
    },
    {
     "name": "stderr",
     "output_type": "stream",
     "text": [
      "100%|██████████| 1070/1070 [01:53<00:00,  9.41it/s]"
     ]
    },
    {
     "name": "stdout",
     "output_type": "stream",
     "text": [
      "test accuracy = 0.7404205607476636 \n"
     ]
    },
    {
     "name": "stderr",
     "output_type": "stream",
     "text": [
      "\n"
     ]
    }
   ],
   "source": [
    "class Config:\n",
    "    seed = 42\n",
    "    data_dir = '../input/cassava-leaf-disease-classification/'\n",
    "    train_data_dir = data_dir + 'train_images/'\n",
    "    train_csv_path = data_dir + 'train.csv'\n",
    "    arch = 'tf_efficientnet_b3_ns' ## model name\n",
    "    device = 'cuda'\n",
    "    debug = False                 ##\n",
    "    \n",
    "    image_size = 512     ##384\n",
    "    train_batch_size = 4        ##16\n",
    "    val_batch_size = 4          ##32\n",
    "    epochs = 10                  ## total train epochs\n",
    "    freeze_bn_epochs = 5        ## freeze bn weights before epochs\n",
    "    \n",
    "    lr=1e-4                     ## init learning rate\n",
    "    min_lr = 1e-6               ## min learning rate\n",
    "    weight_decay = 1e-6\n",
    "    num_workers = 0            ## 4\n",
    "    num_splits = 5             ## numbers splits\n",
    "    num_classes = 5            ## numbers classes\n",
    "    T_0 = 10\n",
    "    T_mult = 1\n",
    "    accum_iter = 2\n",
    "    verbose_step = 1\n",
    "    \n",
    "    criterion = 'LabelSmoothingCrossEntropy' ## CrossEntropy, LabelSmoothingCrossEntropy TaylorCrossEntropyLoss\n",
    "    label_smoothing = 0.3\n",
    "    \n",
    "    train_id = [0,1,2,3,4]\n",
    "    n_label = 5\n",
    "    comment = 'init'\n",
    "    \n",
    "seed_everything(Config.seed)    \n",
    "\n",
    "if __name__ == '__main__':\n",
    "    \n",
    "    # ====================================================\n",
    "    # CFG \n",
    "    # ====================================================\n",
    "    CFG = Config\n",
    "    samples_df = pd.read_csv(CFG.train_csv_path)\n",
    "\n",
    "    if CFG.debug:\n",
    "        CFG.epochs = 1\n",
    "        samples_df = samples_df.sample(2000,random_state=CFG.seed).reset_index(drop=True)\n",
    "    \n",
    "    print('CFG seed is ', CFG.seed)\n",
    "    if CFG.seed is not None:\n",
    "        seed_everything(CFG.seed)\n",
    "        \n",
    "    # ====================================================\n",
    "    # split data\n",
    "    # ====================================================\n",
    "    folds = StratifiedKFold(n_splits=CFG.num_splits, shuffle=True, random_state=CFG.seed).split(np.arange(samples_df.shape[0]), samples_df.label.values)\n",
    "    for fold,(train_idx,val_idx) in enumerate(folds):\n",
    "        print('training_df')\n",
    "        print(samples_df.iloc[train_idx]['label'].value_counts())\n",
    "        print('validation_df')\n",
    "        print(samples_df.iloc[val_idx]['label'].value_counts())\n",
    "        break\n",
    "    \n",
    "    # ====================================================\n",
    "    # load data\n",
    "    # ====================================================\n",
    "    train_loader,val_loader = load_dataloader(CFG, samples_df, train_idx, val_idx)\n",
    "    samples_df.loc[val_idx,:].reset_index(drop=True).to_pickle('df_val.pkl')\n",
    "\n",
    "    # ====================================================\n",
    "    # select device\n",
    "    # ====================================================\n",
    "    device = torch.device(CFG.device)\n",
    "    \n",
    "    # ====================================================\n",
    "    # build graph\n",
    "    # ====================================================\n",
    "    model = CustomEfficientNet('tf_efficientnet_b3_ns', CFG.n_label, pretrained=False).to(device)\n",
    "    scaler = GradScaler()\n",
    "    optimizer = torch.optim.Adam(model.parameters(), lr=CFG.lr, weight_decay=CFG.weight_decay)\n",
    "    scheduler = torch.optim.lr_scheduler.CosineAnnealingWarmRestarts(\n",
    "        optimizer, \n",
    "        T_0=CFG.T_0, \n",
    "        T_mult=CFG.T_mult, \n",
    "        eta_min=CFG.min_lr, \n",
    "        last_epoch=-1)\n",
    "    loss_train = TaylorCrossEntropyLoss(smoothing=CFG.label_smoothing)\n",
    "    loss_val = nn.CrossEntropyLoss().to(device)\n",
    "    \n",
    "    # ====================================================\n",
    "    # train\n",
    "    # ====================================================\n",
    "    best_accuracy = 0\n",
    "    best_epoch = 0\n",
    "    for epoch in range(CFG.epochs):\n",
    "        if epoch < CFG.freeze_bn_epochs:\n",
    "            freeze_batchnorm_stats(model)  \n",
    "        train_one_epoch(\n",
    "            epoch, \n",
    "            model, \n",
    "            loss_train, \n",
    "            optimizer, \n",
    "            train_loader, \n",
    "            device, \n",
    "            scheduler=scheduler, \n",
    "            schd_batch_update=False)\n",
    "\n",
    "        with torch.no_grad():\n",
    "            epoch_accuracy = valid_one_epoch(\n",
    "                epoch, \n",
    "                model, \n",
    "                loss_val, \n",
    "                val_loader, \n",
    "                device, \n",
    "                scheduler=None, \n",
    "                schd_loss_update=False)\n",
    "\n",
    "        if epoch_accuracy > best_accuracy:\n",
    "#             if not CFG.debug:\n",
    "            torch.save(model.state_dict(),'{}_{}_best.ckpt'.format(CFG.arch, CFG.comment))\n",
    "            print('Best model is saved')\n",
    "            best_accuracy = epoch_accuracy\n",
    "            best_epoch = epoch\n",
    "        print('accuracy = {} in epoch {}'.format(epoch_accuracy, epoch))\n",
    "        \n",
    "    print('best accuracy = {} in epoch {}'.format(best_accuracy,best_epoch))\n",
    "    del model, optimizer, train_loader, val_loader, scaler, scheduler\n",
    "    torch.cuda.empty_cache()\n",
    "    \n",
    "    \n",
    "    # ====================================================\n",
    "    # validation\n",
    "    # ====================================================\n",
    "\n",
    "    def inference(model, states, test_loader, device):\n",
    "        \n",
    "        model.to(device)\n",
    "        tk0 = tqdm(enumerate(test_loader), total=len(test_loader))\n",
    "        probs = []\n",
    "        for i, (images) in tk0:\n",
    "            images = images.to(device)\n",
    "            avg_preds = []\n",
    "            for state in states:\n",
    "                model.load_state_dict(state)\n",
    "                model.eval()\n",
    "                with torch.no_grad():\n",
    "                    y_preds = model(images)\n",
    "                avg_preds.append(y_preds.softmax(1).to('cpu').numpy())\n",
    "            avg_preds = np.mean(avg_preds, axis=0)\n",
    "            probs.append(avg_preds)\n",
    "\n",
    "        probs = np.concatenate(probs)\n",
    "        return probs\n",
    "    \n",
    "    device = torch.device(CFG.device)\n",
    "    df_val = pd.read_pickle('df_val.pkl')\n",
    "    val_loader = load_valdataloader(df_val)\n",
    "    model = CustomEfficientNet(CFG.arch, CFG.n_label, pretrained=False)\n",
    "    states = [torch.load(p) for p in ['{}_{}_best.ckpt'.format(CFG.arch, CFG.comment)]]\n",
    "    predictions = inference(model, states, val_loader, device)\n",
    "    accuracy = sum(df_val.label==softmax(predictions).argmax(1))/df_val.shape[0]\n",
    "    accuracy\n",
    "    print('test accuracy = {} '.format(accuracy))"
   ]
  },
  {
   "cell_type": "code",
   "execution_count": null,
   "metadata": {},
   "outputs": [],
   "source": [
    "v1 baseline 0.72\n",
    "v2 baseline change image size 384=>512　0.74"
   ]
  },
  {
   "cell_type": "markdown",
   "metadata": {},
   "source": [
    "# **TRAIN**"
   ]
  },
  {
   "cell_type": "code",
   "execution_count": null,
   "metadata": {},
   "outputs": [],
   "source": []
  },
  {
   "cell_type": "markdown",
   "metadata": {},
   "source": [
    "# **INFERENCE**"
   ]
  },
  {
   "cell_type": "code",
   "execution_count": null,
   "metadata": {},
   "outputs": [],
   "source": []
  },
  {
   "cell_type": "markdown",
   "metadata": {
    "papermill": {
     "duration": 0.047881,
     "end_time": "2021-01-21T03:22:45.677120",
     "exception": false,
     "start_time": "2021-01-21T03:22:45.629239",
     "status": "completed"
    },
    "tags": []
   },
   "source": [
    "# **Main Loop**"
   ]
  },
  {
   "cell_type": "code",
   "execution_count": 44,
   "metadata": {
    "papermill": {
     "duration": 70.868489,
     "end_time": "2021-01-21T03:23:56.562330",
     "exception": false,
     "start_time": "2021-01-21T03:22:45.693841",
     "status": "completed"
    },
    "tags": []
   },
   "outputs": [
    {
     "name": "stdout",
     "output_type": "stream",
     "text": [
      "CFG seed is  42\n"
     ]
    },
    {
     "name": "stderr",
     "output_type": "stream",
     "text": [
      "C:\\Users\\wangz\\anaconda3\\envs\\tf_gpu23-2\\lib\\site-packages\\sklearn\\model_selection\\_split.py:668: UserWarning: The least populated class in y has only 2 members, which is less than n_splits=5.\n",
      "  % (min_groups, self.n_splits)), UserWarning)\n",
      "Train epoch 0 loss: 1.61677: 100%|██████████| 20/20 [00:02<00:00,  7.26it/s]\n",
      "Val epoch 0 loss: 1.50206: 100%|██████████| 5/5 [00:00<00:00, 19.28it/s]\n"
     ]
    },
    {
     "name": "stdout",
     "output_type": "stream",
     "text": [
      "Validation multi-class accuracy = 0.65000\n",
      "Best model is saved\n",
      "Fold0 best accuracy = 0.65 in epoch 0\n"
     ]
    },
    {
     "name": "stderr",
     "output_type": "stream",
     "text": [
      "Train epoch 0 loss: 1.59700: 100%|██████████| 20/20 [00:02<00:00,  7.35it/s]\n",
      "Val epoch 0 loss: 1.41611: 100%|██████████| 5/5 [00:00<00:00, 18.81it/s]\n"
     ]
    },
    {
     "name": "stdout",
     "output_type": "stream",
     "text": [
      "Validation multi-class accuracy = 0.65000\n",
      "Best model is saved\n",
      "Fold1 best accuracy = 0.65 in epoch 0\n"
     ]
    },
    {
     "name": "stderr",
     "output_type": "stream",
     "text": [
      "Train epoch 0 loss: 1.62903: 100%|██████████| 20/20 [00:02<00:00,  6.94it/s]\n",
      "Val epoch 0 loss: 1.52073: 100%|██████████| 5/5 [00:00<00:00, 18.71it/s]\n"
     ]
    },
    {
     "name": "stdout",
     "output_type": "stream",
     "text": [
      "Validation multi-class accuracy = 0.50000\n",
      "Best model is saved\n",
      "Fold2 best accuracy = 0.5 in epoch 0\n"
     ]
    },
    {
     "name": "stderr",
     "output_type": "stream",
     "text": [
      "Train epoch 0 loss: 1.61014: 100%|██████████| 20/20 [00:02<00:00,  7.21it/s]\n",
      "Val epoch 0 loss: 1.53001: 100%|██████████| 5/5 [00:00<00:00, 18.78it/s]\n"
     ]
    },
    {
     "name": "stdout",
     "output_type": "stream",
     "text": [
      "Validation multi-class accuracy = 0.55000\n",
      "Best model is saved\n",
      "Fold3 best accuracy = 0.55 in epoch 0\n"
     ]
    },
    {
     "name": "stderr",
     "output_type": "stream",
     "text": [
      "Train epoch 0 loss: 1.58263: 100%|██████████| 20/20 [00:02<00:00,  7.06it/s]\n",
      "Val epoch 0 loss: 1.48668: 100%|██████████| 5/5 [00:00<00:00, 18.10it/s]\n"
     ]
    },
    {
     "name": "stdout",
     "output_type": "stream",
     "text": [
      "Validation multi-class accuracy = 0.65000\n",
      "Best model is saved\n",
      "Fold4 best accuracy = 0.65 in epoch 0\n",
      "5 folds cross validation CV = 0.60000\n"
     ]
    }
   ],
   "source": [
    "################ freeze bn \n",
    "def freeze_batchnorm_stats(net):\n",
    "    try:\n",
    "        for m in net.modules():\n",
    "            if isinstance(m,nn.BatchNorm2d) or isinstance(m,nn.LayerNorm):\n",
    "                m.eval()\n",
    "    except ValuError:\n",
    "        print('error with batchnorm2d or layernorm')\n",
    "        return\n",
    "    \n",
    "    \n",
    "\n",
    "\n",
    "if __name__ == '__main__':\n",
    "    CFG = Config\n",
    "    train = pd.read_csv(CFG.train_csv_path)\n",
    "    \n",
    "    if CFG.debug:\n",
    "        CFG.epochs = 1\n",
    "        train = train.sample(100,random_state=CFG.seed).reset_index(drop=True)\n",
    "    \n",
    "    print('CFG seed is ', CFG.seed)\n",
    "    if CFG.seed is not None:\n",
    "        seed_everything(CFG.seed)\n",
    "    \n",
    "    folds = StratifiedKFold(\n",
    "        n_splits=CFG.num_splits, \n",
    "        shuffle=True, \n",
    "        random_state=CFG.seed).split(np.arange(train.shape[0]), train.label.values)\n",
    "    \n",
    "    cross_accuracy = []\n",
    "    for fold,(train_idx,val_idx) in enumerate(folds):\n",
    "        ########\n",
    "        # load data\n",
    "        #######\n",
    "        train_loader,val_loader = load_dataloader(CFG, train, train_idx, val_idx)\n",
    "        \n",
    "        device = torch.device(CFG.device)\n",
    "        \n",
    "        \n",
    "        ## 'vit_base_patch16_384' vc 0.66\n",
    "        ## 'resnext50_32x4d' 0.680\n",
    "        ## 'tf_efficientnet_b3_ns'  0.6700 => TaylorCrossEntropyLoss 0.67000 rollback\n",
    "        ## 'tf_efficientnet_b3_ns'  0.6700 => 'tf_efficientnet_b4_ns' 0.56000 rollback\n",
    "        ## 'tf_efficientnet_b3_ns'  0.6700 => change augumentation  0.60 rollback\n",
    "        \n",
    "        \n",
    "        model = CustomEfficientNet('tf_efficientnet_b4_ns', train.label.nunique(), pretrained=True).to(device)\n",
    "        \n",
    "        scaler = GradScaler()\n",
    "        optimizer = torch.optim.Adam(\n",
    "            model.parameters(), \n",
    "            lr=CFG.lr, \n",
    "            weight_decay=CFG.weight_decay)\n",
    "\n",
    "        scheduler = torch.optim.lr_scheduler.CosineAnnealingWarmRestarts(\n",
    "            optimizer, \n",
    "            T_0=CFG.T_0, \n",
    "            T_mult=CFG.T_mult, \n",
    "            eta_min=CFG.min_lr, \n",
    "            last_epoch=-1)\n",
    "    \n",
    "        ########\n",
    "        # criterion\n",
    "        #######\n",
    "        if CFG.criterion in['LabelSmoothingCrossEntropy', 'TaylorCrossEntropyLoss']:  #### label smoothing cross entropy\n",
    "            loss_train = TaylorCrossEntropyLoss(smoothing=CFG.label_smoothing)\n",
    "        else:\n",
    "            loss_train = nn.CrossEntropyLoss().to(device)\n",
    "        loss_val = nn.CrossEntropyLoss().to(device)\n",
    "        \n",
    "        best_accuracy = 0\n",
    "        best_epoch = 0\n",
    "        for epoch in range(CFG.epochs):\n",
    "            if epoch < CFG.freeze_bn_epochs:\n",
    "                freeze_batchnorm_stats(model)  \n",
    "            train_one_epoch(\n",
    "                epoch, \n",
    "                model, \n",
    "                loss_train, \n",
    "                optimizer, \n",
    "                train_loader, \n",
    "                device, \n",
    "                scheduler=scheduler, \n",
    "                schd_batch_update=False)\n",
    "\n",
    "            with torch.no_grad():\n",
    "                epoch_accuracy = valid_one_epoch(\n",
    "                    epoch, \n",
    "                    model, \n",
    "                    loss_val, \n",
    "                    val_loader, \n",
    "                    device, \n",
    "                    scheduler=None, \n",
    "                    schd_loss_update=False)\n",
    "\n",
    "            if epoch_accuracy > best_accuracy:\n",
    "                torch.save(model.state_dict(),'{}_fold{}_best.ckpt'.format(CFG.arch, fold))\n",
    "                best_accuracy = epoch_accuracy\n",
    "                best_epoch = epoch\n",
    "                print('Best model is saved')\n",
    "        cross_accuracy += [best_accuracy]\n",
    "        print('Fold{} best accuracy = {} in epoch {}'.format(fold,best_accuracy,best_epoch))\n",
    "        del model, optimizer, train_loader, val_loader, scaler, scheduler\n",
    "        torch.cuda.empty_cache()\n",
    "    print('{} folds cross validation CV = {:.5f}'.format(CFG.num_splits,np.average(cross_accuracy)))"
   ]
  }
 ],
 "metadata": {
  "kernelspec": {
   "display_name": "Python 3",
   "language": "python",
   "name": "python3"
  },
  "language_info": {
   "codemirror_mode": {
    "name": "ipython",
    "version": 3
   },
   "file_extension": ".py",
   "mimetype": "text/x-python",
   "name": "python",
   "nbconvert_exporter": "python",
   "pygments_lexer": "ipython3",
   "version": "3.7.9"
  },
  "papermill": {
   "duration": 88.608743,
   "end_time": "2021-01-21T03:23:57.278162",
   "environment_variables": {},
   "exception": null,
   "input_path": "__notebook__.ipynb",
   "output_path": "__notebook__.ipynb",
   "parameters": {},
   "start_time": "2021-01-21T03:22:28.669419",
   "version": "2.1.0"
  }
 },
 "nbformat": 4,
 "nbformat_minor": 4
}
