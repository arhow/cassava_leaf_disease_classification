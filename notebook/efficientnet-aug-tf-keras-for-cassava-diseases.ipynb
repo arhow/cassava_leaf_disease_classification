{
 "cells": [
  {
   "cell_type": "markdown",
   "metadata": {
    "papermill": {
     "duration": 0.035649,
     "end_time": "2021-01-06T02:14:51.431827",
     "exception": false,
     "start_time": "2021-01-06T02:14:51.396178",
     "status": "completed"
    },
    "tags": []
   },
   "source": [
    "# EfficientNet+Augmentation for Cassava Disease Classification using TF.Keras"
   ]
  },
  {
   "cell_type": "markdown",
   "metadata": {
    "papermill": {
     "duration": 0.034359,
     "end_time": "2021-01-06T02:14:51.501261",
     "exception": false,
     "start_time": "2021-01-06T02:14:51.466902",
     "status": "completed"
    },
    "tags": []
   },
   "source": [
    "This notebook presents a full pipeline to load the data, apply advanced data augmentation, train an EfficientNet and use the model to predict over the test images. To make it possible to run within the allocated time for notebooks, this notebook will only present a single fold with a split of 80% for training and 20% for validation. Due to the original image size of 600x800 pixels, we will randomly crop 512x512 images from original images in order to keep the highest image resolution possible for our model training. Previous versions of this notebook used resized images and the results were extremely poor in comparison (~0.42 accuracy)."
   ]
  },
  {
   "cell_type": "markdown",
   "metadata": {
    "papermill": {
     "duration": 0.033756,
     "end_time": "2021-01-06T02:14:51.567895",
     "exception": false,
     "start_time": "2021-01-06T02:14:51.534139",
     "status": "completed"
    },
    "tags": []
   },
   "source": [
    "Below are some version notes which were written at version 20 so I only included what I could remember."
   ]
  },
  {
   "cell_type": "markdown",
   "metadata": {
    "papermill": {
     "duration": 0.032281,
     "end_time": "2021-01-06T02:14:51.634386",
     "exception": false,
     "start_time": "2021-01-06T02:14:51.602105",
     "status": "completed"
    },
    "tags": []
   },
   "source": [
    "Version notes:\n",
    "* 27: Fix bug in the TTA process.\n",
    "* 26: Move from using `ImageDataGenerator` to `tf.data` to load data into the model. This allows to tune the Normalization layer in the pretrained EfficientNetB3 model provided by `tf.keras`. By default, images are normalized using the `imagenet` dataset's mean and standard deviation. *- score: 0.888*\n",
    "* 24: Test CosineDecay instead of ReduceLRonPlateau and increase the dropout rate within the EfficientNetB3 model. *- score: 0.885*\n",
    "* 22: Replace the custom generator and data augmentation using `imgaug` with the new Keras preprocessing layers. Also increase the image size from 300x300 to 512x512. *- score: 0.880*\n",
    "* 21: *- score: 0.883*\n",
    "* 20: Fix bug activating the \"training mode\" by default in the custom generator, even during validation. Removed data standardization and class weights, simplify the bottleneck layers of the model, and remove the dropout from the data augmentation techniques. *- score: 0.873*\n",
    "* 17: Additional data augmentation techniques. *- score: 0.821*\n",
    "* 16: Tighter scan of the images at test time. *- score: 0.857*\n",
    "* 15: Add data standardization. (Cannot remember if there was a bug but the score was abnormaly low) *- score: 0.692*\n",
    "* 11: Train the model by randomly cropping 300x300pixel tiles from the original images *- score: 0.847*\n",
    "* 9: Classification from resized images. *- score: 0.421* "
   ]
  },
  {
   "cell_type": "code",
   "execution_count": 1,
   "metadata": {
    "_cell_guid": "b1076dfc-b9ad-4769-8c92-a6c4dae69d19",
    "_uuid": "8f2839f25d086af736a60e9eeb907d3b93b6e0e5",
    "papermill": {
     "duration": 7.646706,
     "end_time": "2021-01-06T02:14:59.313553",
     "exception": false,
     "start_time": "2021-01-06T02:14:51.666847",
     "status": "completed"
    },
    "tags": []
   },
   "outputs": [
    {
     "name": "stderr",
     "output_type": "stream",
     "text": [
      "C:\\Users\\wangz\\anaconda3\\envs\\tf_gpu23-2\\lib\\site-packages\\dask\\config.py:168: YAMLLoadWarning: calling yaml.load() without Loader=... is deprecated, as the default Loader is unsafe. Please read https://msg.pyyaml.org/load for full details.\n",
      "  data = yaml.load(f.read()) or {}\n"
     ]
    }
   ],
   "source": [
    "import numpy as np\n",
    "import pandas as pd\n",
    "from PIL import Image\n",
    "import os\n",
    "import matplotlib.pyplot as plt\n",
    "import seaborn as sns\n",
    "from tqdm import tqdm\n",
    "from sklearn.utils import shuffle\n",
    "from sklearn.utils import class_weight\n",
    "from sklearn.preprocessing import minmax_scale\n",
    "import random\n",
    "import cv2\n",
    "from imgaug import augmenters as iaa\n",
    "import warnings\n",
    "warnings.filterwarnings('ignore')\n",
    "\n",
    "import tensorflow as tf\n",
    "from tensorflow.keras.models import Sequential, Model\n",
    "from tensorflow.keras.preprocessing.image import ImageDataGenerator\n",
    "from tensorflow.keras.layers import Dense, Dropout, Activation, Input, BatchNormalization, GlobalAveragePooling2D\n",
    "from tensorflow.keras import layers\n",
    "from tensorflow.keras.callbacks import ModelCheckpoint, ReduceLROnPlateau, EarlyStopping\n",
    "from tensorflow.keras.experimental import CosineDecay\n",
    "from tensorflow.keras.utils import to_categorical\n",
    "from tensorflow.keras.applications import EfficientNetB3\n",
    "from tensorflow.keras.layers.experimental.preprocessing import RandomCrop,CenterCrop, RandomRotation"
   ]
  },
  {
   "cell_type": "code",
   "execution_count": 2,
   "metadata": {},
   "outputs": [
    {
     "data": {
      "text/plain": [
       "[PhysicalDevice(name='/physical_device:GPU:0', device_type='GPU')]"
      ]
     },
     "execution_count": 2,
     "metadata": {},
     "output_type": "execute_result"
    }
   ],
   "source": [
    "tf.config.list_physical_devices('GPU')"
   ]
  },
  {
   "cell_type": "code",
   "execution_count": 3,
   "metadata": {
    "papermill": {
     "duration": 0.040553,
     "end_time": "2021-01-06T02:14:59.457397",
     "exception": false,
     "start_time": "2021-01-06T02:14:59.416844",
     "status": "completed"
    },
    "tags": []
   },
   "outputs": [],
   "source": [
    "training_folder = '../input/cassava-leaf-disease-classification/train_images/'"
   ]
  },
  {
   "cell_type": "code",
   "execution_count": 4,
   "metadata": {
    "papermill": {
     "duration": 0.10876,
     "end_time": "2021-01-06T02:14:59.599813",
     "exception": false,
     "start_time": "2021-01-06T02:14:59.491053",
     "status": "completed"
    },
    "tags": []
   },
   "outputs": [],
   "source": [
    "samples_df = pd.read_csv(\"../input/cassava-leaf-disease-classification/train.csv\")\n",
    "samples_df = shuffle(samples_df, random_state=42)\n",
    "samples_df[\"filepath\"] = training_folder+samples_df[\"image_id\"]"
   ]
  },
  {
   "cell_type": "code",
   "execution_count": 5,
   "metadata": {
    "papermill": {
     "duration": 0.041416,
     "end_time": "2021-01-06T02:14:59.742251",
     "exception": false,
     "start_time": "2021-01-06T02:14:59.700835",
     "status": "completed"
    },
    "tags": []
   },
   "outputs": [],
   "source": [
    "training_percentage = 0.8\n",
    "training_item_count = int(len(samples_df)*training_percentage)\n",
    "validation_item_count = len(samples_df)-int(len(samples_df)*training_percentage)\n",
    "training_df = samples_df[:training_item_count]\n",
    "validation_df = samples_df[training_item_count:]"
   ]
  },
  {
   "cell_type": "code",
   "execution_count": 6,
   "metadata": {
    "papermill": {
     "duration": 0.042327,
     "end_time": "2021-01-06T02:14:59.886390",
     "exception": false,
     "start_time": "2021-01-06T02:14:59.844063",
     "status": "completed"
    },
    "tags": []
   },
   "outputs": [],
   "source": [
    "batch_size = 4\n",
    "image_size = 512\n",
    "input_shape = (image_size, image_size, 3)\n",
    "dropout_rate = 0.4\n",
    "classes_to_predict = sorted(training_df.label.unique())\n",
    "n_ouput = len(classes_to_predict)"
   ]
  },
  {
   "cell_type": "code",
   "execution_count": 7,
   "metadata": {
    "papermill": {
     "duration": 2.584349,
     "end_time": "2021-01-06T02:15:02.577371",
     "exception": false,
     "start_time": "2021-01-06T02:14:59.993022",
     "status": "completed"
    },
    "tags": []
   },
   "outputs": [],
   "source": [
    "training_data = tf.data.Dataset.from_tensor_slices((training_df.filepath.values, training_df.label.values))\n",
    "validation_data = tf.data.Dataset.from_tensor_slices((validation_df.filepath.values, validation_df.label.values))"
   ]
  },
  {
   "cell_type": "code",
   "execution_count": 8,
   "metadata": {
    "papermill": {
     "duration": 0.145447,
     "end_time": "2021-01-06T02:15:02.757485",
     "exception": false,
     "start_time": "2021-01-06T02:15:02.612038",
     "status": "completed"
    },
    "tags": []
   },
   "outputs": [],
   "source": [
    "def load_image_and_label_from_path(image_path, label):\n",
    "    img = tf.io.read_file(image_path)\n",
    "    img = tf.image.decode_jpeg(img, channels=3)\n",
    "    return img, label\n",
    "\n",
    "AUTOTUNE = tf.data.experimental.AUTOTUNE\n",
    "\n",
    "training_data = training_data.map(load_image_and_label_from_path, num_parallel_calls=AUTOTUNE)\n",
    "validation_data = validation_data.map(load_image_and_label_from_path, num_parallel_calls=AUTOTUNE)"
   ]
  },
  {
   "cell_type": "code",
   "execution_count": 9,
   "metadata": {
    "papermill": {
     "duration": 0.050934,
     "end_time": "2021-01-06T02:15:02.844084",
     "exception": false,
     "start_time": "2021-01-06T02:15:02.793150",
     "status": "completed"
    },
    "tags": []
   },
   "outputs": [],
   "source": [
    "training_data_batches = training_data.shuffle(buffer_size=1000).batch(batch_size).prefetch(buffer_size=AUTOTUNE)\n",
    "validation_data_batches = validation_data.shuffle(buffer_size=1000).batch(batch_size).prefetch(buffer_size=AUTOTUNE)"
   ]
  },
  {
   "cell_type": "code",
   "execution_count": 10,
   "metadata": {
    "papermill": {
     "duration": 0.131024,
     "end_time": "2021-01-06T02:15:03.080732",
     "exception": false,
     "start_time": "2021-01-06T02:15:02.949708",
     "status": "completed"
    },
    "tags": []
   },
   "outputs": [],
   "source": [
    "adapt_data = tf.data.Dataset.from_tensor_slices(training_df.filepath.values)\n",
    "def adapt_mode(image_path):\n",
    "    img = tf.io.read_file(image_path)\n",
    "    img = tf.image.decode_jpeg(img, channels=3)\n",
    "    img = layers.experimental.preprocessing.Rescaling(1.0 / 255)(img)\n",
    "    return img\n",
    "\n",
    "adapt_data = adapt_data.map(adapt_mode, num_parallel_calls=AUTOTUNE)\n",
    "adapt_data_batches = adapt_data.shuffle(buffer_size=1000).batch(batch_size).prefetch(buffer_size=AUTOTUNE)"
   ]
  },
  {
   "cell_type": "code",
   "execution_count": 11,
   "metadata": {
    "papermill": {
     "duration": 0.363049,
     "end_time": "2021-01-06T02:15:03.556021",
     "exception": false,
     "start_time": "2021-01-06T02:15:03.192972",
     "status": "completed"
    },
    "tags": []
   },
   "outputs": [],
   "source": [
    "data_augmentation_layers = tf.keras.Sequential(\n",
    "    [\n",
    "        layers.experimental.preprocessing.RandomCrop(height=image_size, width=image_size),\n",
    "        layers.experimental.preprocessing.RandomFlip(\"horizontal_and_vertical\"),\n",
    "        layers.experimental.preprocessing.RandomRotation(0.25),\n",
    "        layers.experimental.preprocessing.RandomZoom((-0.2, 0)),\n",
    "        layers.experimental.preprocessing.RandomContrast((0.2,0.2))\n",
    "    ]\n",
    ")"
   ]
  },
  {
   "cell_type": "code",
   "execution_count": 12,
   "metadata": {
    "papermill": {
     "duration": 8.081719,
     "end_time": "2021-01-06T02:15:14.090583",
     "exception": false,
     "start_time": "2021-01-06T02:15:06.008864",
     "status": "completed"
    },
    "tags": []
   },
   "outputs": [
    {
     "name": "stdout",
     "output_type": "stream",
     "text": [
      "Model: \"functional_1\"\n",
      "_________________________________________________________________\n",
      "Layer (type)                 Output Shape              Param #   \n",
      "=================================================================\n",
      "input_2 (InputLayer)         [(None, 512, 512, 3)]     0         \n",
      "_________________________________________________________________\n",
      "sequential (Sequential)      (None, 512, 512, 3)       0         \n",
      "_________________________________________________________________\n",
      "efficientnetb3 (Functional)  (None, 16, 16, 1536)      10783535  \n",
      "_________________________________________________________________\n",
      "global_average_pooling2d (Gl (None, 1536)              0         \n",
      "_________________________________________________________________\n",
      "dropout (Dropout)            (None, 1536)              0         \n",
      "_________________________________________________________________\n",
      "dense (Dense)                (None, 5)                 7685      \n",
      "=================================================================\n",
      "Total params: 10,791,220\n",
      "Trainable params: 10,703,917\n",
      "Non-trainable params: 87,303\n",
      "_________________________________________________________________\n"
     ]
    }
   ],
   "source": [
    "efficientnet = EfficientNetB3(#weights='../model/efficientnet-b3_noisy-student.h5', \n",
    "                              include_top=False, \n",
    "                              input_shape=input_shape, \n",
    "                              drop_connect_rate=dropout_rate)\n",
    "\n",
    "inputs = Input(shape=input_shape)\n",
    "augmented = data_augmentation_layers(inputs)\n",
    "efficientnet = efficientnet(augmented)\n",
    "pooling = layers.GlobalAveragePooling2D()(efficientnet)\n",
    "dropout = layers.Dropout(dropout_rate)(pooling)\n",
    "outputs = Dense(n_ouput, activation=\"softmax\")(dropout)\n",
    "model = Model(inputs=inputs, outputs=outputs)\n",
    "    \n",
    "model.summary()"
   ]
  },
  {
   "cell_type": "code",
   "execution_count": 13,
   "metadata": {
    "papermill": {
     "duration": 823.755777,
     "end_time": "2021-01-06T02:28:58.011550",
     "exception": false,
     "start_time": "2021-01-06T02:15:14.255773",
     "status": "completed"
    },
    "tags": []
   },
   "outputs": [
    {
     "name": "stdout",
     "output_type": "stream",
     "text": [
      "Wall time: 8min 4s\n"
     ]
    }
   ],
   "source": [
    "%%time\n",
    "model.get_layer('efficientnetb3').get_layer('normalization').adapt(adapt_data_batches)"
   ]
  },
  {
   "cell_type": "code",
   "execution_count": 14,
   "metadata": {
    "papermill": {
     "duration": 0.091558,
     "end_time": "2021-01-06T02:28:58.265203",
     "exception": false,
     "start_time": "2021-01-06T02:28:58.173645",
     "status": "completed"
    },
    "tags": []
   },
   "outputs": [],
   "source": [
    "epochs = 8\n",
    "decay_steps = int(round(len(training_df)/batch_size))*epochs\n",
    "cosine_decay = CosineDecay(initial_learning_rate=1e-4, decay_steps=decay_steps, alpha=0.3)\n",
    "\n",
    "callbacks = [ModelCheckpoint(filepath='best_model.h5', monitor='val_loss', save_best_only=True)]\n",
    "\n",
    "model.compile(loss=\"sparse_categorical_crossentropy\", optimizer=tf.keras.optimizers.Adam(cosine_decay), metrics=[\"accuracy\"])"
   ]
  },
  {
   "cell_type": "code",
   "execution_count": 15,
   "metadata": {
    "papermill": {
     "duration": 10089.702939,
     "end_time": "2021-01-06T05:17:08.023047",
     "exception": false,
     "start_time": "2021-01-06T02:28:58.320108",
     "status": "completed"
    },
    "tags": []
   },
   "outputs": [
    {
     "name": "stdout",
     "output_type": "stream",
     "text": [
      "Epoch 1/8\n",
      "   2/4280 [..............................] - ETA: 8:08 - loss: 1.5193 - accuracy: 0.2500WARNING:tensorflow:Callbacks method `on_train_batch_end` is slow compared to the batch time (batch time: 0.0608s vs `on_train_batch_end` time: 0.1666s). Check your callbacks.\n",
      "4280/4280 [==============================] - 1015s 237ms/step - loss: 0.6378 - accuracy: 0.7794 - val_loss: 0.4713 - val_accuracy: 0.8285\n",
      "Epoch 2/8\n",
      "4280/4280 [==============================] - 1004s 235ms/step - loss: 0.4902 - accuracy: 0.8359 - val_loss: 0.4818 - val_accuracy: 0.8311\n",
      "Epoch 3/8\n",
      "4280/4280 [==============================] - 1018s 238ms/step - loss: 0.4390 - accuracy: 0.8505 - val_loss: 0.4388 - val_accuracy: 0.8474\n",
      "Epoch 4/8\n",
      "4280/4280 [==============================] - 1013s 237ms/step - loss: 0.3962 - accuracy: 0.8683 - val_loss: 0.4027 - val_accuracy: 0.8689\n",
      "Epoch 5/8\n",
      "4280/4280 [==============================] - 1009s 236ms/step - loss: 0.3763 - accuracy: 0.8753 - val_loss: 0.4537 - val_accuracy: 0.8456\n",
      "Epoch 6/8\n",
      "4280/4280 [==============================] - 1018s 238ms/step - loss: 0.3527 - accuracy: 0.8819 - val_loss: 0.3989 - val_accuracy: 0.8661\n",
      "Epoch 7/8\n",
      "4280/4280 [==============================] - 1011s 236ms/step - loss: 0.3319 - accuracy: 0.8884 - val_loss: 0.3712 - val_accuracy: 0.8713\n",
      "Epoch 8/8\n",
      "4280/4280 [==============================] - 1004s 235ms/step - loss: 0.3160 - accuracy: 0.8950 - val_loss: 0.3787 - val_accuracy: 0.8762\n"
     ]
    }
   ],
   "source": [
    "history = model.fit(training_data_batches,\n",
    "                  epochs = epochs, \n",
    "                  validation_data=validation_data_batches,\n",
    "                  callbacks=callbacks)"
   ]
  },
  {
   "cell_type": "code",
   "execution_count": 16,
   "metadata": {
    "papermill": {
     "duration": 6.681043,
     "end_time": "2021-01-06T05:17:46.518718",
     "exception": false,
     "start_time": "2021-01-06T05:17:39.837675",
     "status": "completed"
    },
    "tags": []
   },
   "outputs": [
    {
     "data": {
      "image/png": "[encoded data removed]",
      "text/plain": [
       "<Figure size 432x288 with 1 Axes>"
      ]
     },
     "metadata": {
      "needs_background": "light"
     },
     "output_type": "display_data"
    }
   ],
   "source": [
    "plt.plot(history.history['loss'])\n",
    "plt.plot(history.history['val_loss'])\n",
    "plt.title('Loss over epochs')\n",
    "plt.ylabel('Loss')\n",
    "plt.xlabel('Epoch')\n",
    "plt.legend(['Train', 'Validation'], loc='best')\n",
    "plt.show()"
   ]
  },
  {
   "cell_type": "markdown",
   "metadata": {
    "papermill": {
     "duration": 6.367287,
     "end_time": "2021-01-06T05:18:25.806967",
     "exception": false,
     "start_time": "2021-01-06T05:18:19.439680",
     "status": "completed"
    },
    "tags": []
   },
   "source": [
    "# Prediction on test images"
   ]
  },
  {
   "cell_type": "code",
   "execution_count": 3,
   "metadata": {
    "papermill": {
     "duration": 6.774458,
     "end_time": "2021-01-06T05:18:13.060054",
     "exception": false,
     "start_time": "2021-01-06T05:18:06.285596",
     "status": "completed"
    },
    "tags": []
   },
   "outputs": [
    {
     "ename": "NameError",
     "evalue": "name 'model' is not defined",
     "output_type": "error",
     "traceback": [
      "\u001b[1;31m---------------------------------------------------------------------------\u001b[0m",
      "\u001b[1;31mNameError\u001b[0m                                 Traceback (most recent call last)",
      "\u001b[1;32m<ipython-input-3-963a37c31063>\u001b[0m in \u001b[0;36m<module>\u001b[1;34m\u001b[0m\n\u001b[1;32m----> 1\u001b[1;33m \u001b[0mmodel\u001b[0m\u001b[1;33m.\u001b[0m\u001b[0mload_weights\u001b[0m\u001b[1;33m(\u001b[0m\u001b[1;34m\"best_model.h5\"\u001b[0m\u001b[1;33m)\u001b[0m\u001b[1;33m\u001b[0m\u001b[1;33m\u001b[0m\u001b[0m\n\u001b[0m",
      "\u001b[1;31mNameError\u001b[0m: name 'model' is not defined"
     ]
    }
   ],
   "source": [
    "model.load_weights(\"best_model.h5\")"
   ]
  },
  {
   "cell_type": "code",
   "execution_count": 19,
   "metadata": {
    "papermill": {
     "duration": 6.460839,
     "end_time": "2021-01-06T05:18:39.124508",
     "exception": false,
     "start_time": "2021-01-06T05:18:32.663669",
     "status": "completed"
    },
    "tags": []
   },
   "outputs": [],
   "source": [
    "def scan_over_image(img_path, crop_size=512):\n",
    "    '''\n",
    "    Will extract 512x512 images covering the whole original image\n",
    "    with some overlap between images\n",
    "    '''\n",
    "    \n",
    "    img = Image.open(img_path)\n",
    "    img_height, img_width = img.size\n",
    "    img = np.array(img)\n",
    "    \n",
    "    y = random.randint(0,img_height-crop_size)\n",
    "    x = random.randint(0,img_width-crop_size)\n",
    "\n",
    "    x_img_origins = [0,img_width-crop_size]\n",
    "    y_img_origins = [0,img_height-crop_size]\n",
    "    img_list = []\n",
    "    for x in x_img_origins:\n",
    "        for y in y_img_origins:\n",
    "            img_list.append(img[x:x+crop_size , y:y+crop_size,:])\n",
    "  \n",
    "    return np.array(img_list)"
   ]
  },
  {
   "cell_type": "code",
   "execution_count": 21,
   "metadata": {
    "papermill": {
     "duration": 7.046026,
     "end_time": "2021-01-06T05:18:52.293972",
     "exception": false,
     "start_time": "2021-01-06T05:18:45.247946",
     "status": "completed"
    },
    "tags": []
   },
   "outputs": [],
   "source": [
    "# def display_samples(img_path):\n",
    "#     '''\n",
    "#     Display all 512x512 images extracted from original images\n",
    "#     '''\n",
    "    \n",
    "#     img_list = scan_over_image(img_path)\n",
    "#     sample_number = len(img_list)\n",
    "#     fig = plt.figure(figsize = (8,sample_number))\n",
    "#     for i in range(0,sample_number):\n",
    "#         ax = fig.add_subplot(2, 4, i+1)\n",
    "#         ax.imshow(img_list[i])\n",
    "#         ax.set_title(str(i))\n",
    "#     plt.tight_layout()\n",
    "#     plt.show()\n",
    "\n",
    "# display_samples(\"../input/cassava-leaf-disease-classification/train_images/3412658650.jpg\")"
   ]
  },
  {
   "cell_type": "code",
   "execution_count": 22,
   "metadata": {
    "papermill": {
     "duration": 6.224872,
     "end_time": "2021-01-06T05:19:19.570722",
     "exception": false,
     "start_time": "2021-01-06T05:19:13.345850",
     "status": "completed"
    },
    "tags": []
   },
   "outputs": [],
   "source": [
    "test_time_augmentation_layers = tf.keras.Sequential(\n",
    "    [\n",
    "        layers.experimental.preprocessing.RandomFlip(\"horizontal_and_vertical\"),\n",
    "        layers.experimental.preprocessing.RandomZoom((-0.2, 0)),\n",
    "        layers.experimental.preprocessing.RandomContrast((0.2,0.2))\n",
    "    ]\n",
    ")"
   ]
  },
  {
   "cell_type": "code",
   "execution_count": 23,
   "metadata": {
    "papermill": {
     "duration": 6.090925,
     "end_time": "2021-01-06T05:19:31.976501",
     "exception": false,
     "start_time": "2021-01-06T05:19:25.885576",
     "status": "completed"
    },
    "tags": []
   },
   "outputs": [],
   "source": [
    "def predict_and_vote(image_filename, folder, TTA_runs=4):\n",
    "    '''\n",
    "    Run the model over 4 local areas of the given image,\n",
    "    before making a decision depending on the most predicted\n",
    "    disease.\n",
    "    '''\n",
    "    \n",
    "    #apply TTA to each of the 4 images and sum all predictions for each local image\n",
    "    localised_predictions = []\n",
    "    local_image_list = scan_over_image(folder+image_filename)\n",
    "    for local_image in local_image_list:\n",
    "        duplicated_local_image = tf.convert_to_tensor(np.array([local_image for i in range(TTA_runs)]))\n",
    "        augmented_images = test_time_augmentation_layers(duplicated_local_image)\n",
    "        \n",
    "        predictions = model.predict(augmented_images)\n",
    "        localised_predictions.append(np.sum(predictions, axis=0))\n",
    "    \n",
    "    #sum all predictions from all 4 images and retrieve the index of the highest value\n",
    "    global_predictions = np.sum(np.array(localised_predictions),axis=0)\n",
    "    final_prediction = np.argmax(global_predictions)\n",
    "    \n",
    "    return final_prediction"
   ]
  },
  {
   "cell_type": "code",
   "execution_count": 24,
   "metadata": {
    "papermill": {
     "duration": 6.797562,
     "end_time": "2021-01-06T05:19:45.286327",
     "exception": false,
     "start_time": "2021-01-06T05:19:38.488765",
     "status": "completed"
    },
    "tags": []
   },
   "outputs": [],
   "source": [
    "def run_predictions_over_image_list(image_list, folder):\n",
    "    predictions = []\n",
    "    with tqdm(total=len(image_list)) as pbar:\n",
    "        for image_filename in image_list:\n",
    "            pbar.update(1)\n",
    "            predictions.append(predict_and_vote(image_filename, folder))\n",
    "    return predictions"
   ]
  },
  {
   "cell_type": "code",
   "execution_count": 29,
   "metadata": {
    "papermill": {
     "duration": 1753.205626,
     "end_time": "2021-01-06T05:49:17.417311",
     "exception": false,
     "start_time": "2021-01-06T05:20:04.211685",
     "status": "completed"
    },
    "tags": []
   },
   "outputs": [
    {
     "name": "stderr",
     "output_type": "stream",
     "text": [
      "100%|██████████| 4280/4280 [17:48<00:00,  4.01it/s]\n"
     ]
    }
   ],
   "source": [
    "validation_df[\"results\"] = run_predictions_over_image_list(validation_df[\"image_id\"], training_folder)"
   ]
  },
  {
   "cell_type": "code",
   "execution_count": 30,
   "metadata": {},
   "outputs": [
    {
     "data": {
      "text/html": [
       "<div>\n",
       "<style scoped>\n",
       "    .dataframe tbody tr th:only-of-type {\n",
       "        vertical-align: middle;\n",
       "    }\n",
       "\n",
       "    .dataframe tbody tr th {\n",
       "        vertical-align: top;\n",
       "    }\n",
       "\n",
       "    .dataframe thead th {\n",
       "        text-align: right;\n",
       "    }\n",
       "</style>\n",
       "<table border=\"1\" class=\"dataframe\">\n",
       "  <thead>\n",
       "    <tr style=\"text-align: right;\">\n",
       "      <th></th>\n",
       "      <th>image_id</th>\n",
       "      <th>label</th>\n",
       "      <th>filepath</th>\n",
       "      <th>results</th>\n",
       "    </tr>\n",
       "  </thead>\n",
       "  <tbody>\n",
       "    <tr>\n",
       "      <th>10234</th>\n",
       "      <td>2824543301.jpg</td>\n",
       "      <td>3</td>\n",
       "      <td>../input/cassava-leaf-disease-classification/t...</td>\n",
       "      <td>3</td>\n",
       "    </tr>\n",
       "    <tr>\n",
       "      <th>4763</th>\n",
       "      <td>184909120.jpg</td>\n",
       "      <td>3</td>\n",
       "      <td>../input/cassava-leaf-disease-classification/t...</td>\n",
       "      <td>3</td>\n",
       "    </tr>\n",
       "    <tr>\n",
       "      <th>9062</th>\n",
       "      <td>2602456265.jpg</td>\n",
       "      <td>3</td>\n",
       "      <td>../input/cassava-leaf-disease-classification/t...</td>\n",
       "      <td>3</td>\n",
       "    </tr>\n",
       "    <tr>\n",
       "      <th>1874</th>\n",
       "      <td>1331491784.jpg</td>\n",
       "      <td>3</td>\n",
       "      <td>../input/cassava-leaf-disease-classification/t...</td>\n",
       "      <td>3</td>\n",
       "    </tr>\n",
       "    <tr>\n",
       "      <th>17431</th>\n",
       "      <td>414363375.jpg</td>\n",
       "      <td>3</td>\n",
       "      <td>../input/cassava-leaf-disease-classification/t...</td>\n",
       "      <td>3</td>\n",
       "    </tr>\n",
       "  </tbody>\n",
       "</table>\n",
       "</div>"
      ],
      "text/plain": [
       "             image_id  label  \\\n",
       "10234  2824543301.jpg      3   \n",
       "4763    184909120.jpg      3   \n",
       "9062   2602456265.jpg      3   \n",
       "1874   1331491784.jpg      3   \n",
       "17431   414363375.jpg      3   \n",
       "\n",
       "                                                filepath  results  \n",
       "10234  ../input/cassava-leaf-disease-classification/t...        3  \n",
       "4763   ../input/cassava-leaf-disease-classification/t...        3  \n",
       "9062   ../input/cassava-leaf-disease-classification/t...        3  \n",
       "1874   ../input/cassava-leaf-disease-classification/t...        3  \n",
       "17431  ../input/cassava-leaf-disease-classification/t...        3  "
      ]
     },
     "execution_count": 30,
     "metadata": {},
     "output_type": "execute_result"
    }
   ],
   "source": [
    "validation_df.head()"
   ]
  },
  {
   "cell_type": "code",
   "execution_count": 31,
   "metadata": {
    "papermill": {
     "duration": 9.111638,
     "end_time": "2021-01-06T05:50:08.717378",
     "exception": false,
     "start_time": "2021-01-06T05:49:59.605740",
     "status": "completed"
    },
    "tags": []
   },
   "outputs": [
    {
     "name": "stdout",
     "output_type": "stream",
     "text": [
      "accuracy: 88.41121495327103%\n"
     ]
    }
   ],
   "source": [
    "true_positives = 0\n",
    "prediction_distribution_per_class = {\"0\":{\"0\": 0, \"1\": 0, \"2\":0, \"3\":0, \"4\":0},\n",
    "                                     \"1\":{\"0\": 0, \"1\": 0, \"2\":0, \"3\":0, \"4\":0},\n",
    "                                     \"2\":{\"0\": 0, \"1\": 0, \"2\":0, \"3\":0, \"4\":0},\n",
    "                                     \"3\":{\"0\": 0, \"1\": 0, \"2\":0, \"3\":0, \"4\":0},\n",
    "                                     \"4\":{\"0\": 0, \"1\": 0, \"2\":0, \"3\":0, \"4\":0}}\n",
    "number_of_images = len(validation_df)\n",
    "for idx, pred in validation_df.iterrows():\n",
    "    if int(pred[\"label\"]) == pred.results:\n",
    "        true_positives+=1\n",
    "    prediction_distribution_per_class[str(pred[\"label\"])][str(pred.results)] += 1\n",
    "print(\"accuracy: {}%\".format(true_positives/number_of_images*100))"
   ]
  },
  {
   "cell_type": "code",
   "execution_count": 32,
   "metadata": {
    "papermill": {
     "duration": 8.33189,
     "end_time": "2021-01-06T05:51:15.720645",
     "exception": false,
     "start_time": "2021-01-06T05:51:07.388755",
     "status": "completed"
    },
    "tags": []
   },
   "outputs": [],
   "source": [
    "test_folder = '../input/cassava-leaf-disease-classification/test_images/'\n",
    "submission_df = pd.DataFrame(columns={\"image_id\",\"label\"})\n",
    "submission_df[\"image_id\"] =  os.listdir(test_folder)\n",
    "submission_df[\"label\"] = 0"
   ]
  },
  {
   "cell_type": "code",
   "execution_count": 33,
   "metadata": {
    "papermill": {
     "duration": 8.656135,
     "end_time": "2021-01-06T05:51:32.254653",
     "exception": false,
     "start_time": "2021-01-06T05:51:23.598518",
     "status": "completed"
    },
    "tags": []
   },
   "outputs": [
    {
     "name": "stderr",
     "output_type": "stream",
     "text": [
      "100%|██████████| 1/1 [00:00<00:00,  3.36it/s]\n"
     ]
    }
   ],
   "source": [
    "submission_df[\"label\"] = run_predictions_over_image_list(submission_df[\"image_id\"], test_folder)"
   ]
  },
  {
   "cell_type": "code",
   "execution_count": 34,
   "metadata": {
    "execution": {
     "iopub.execute_input": "2021-01-06T05:52:06.161219Z",
     "iopub.status.busy": "2021-01-06T05:52:06.160210Z",
     "iopub.status.idle": "2021-01-06T05:52:06.585388Z",
     "shell.execute_reply": "2021-01-06T05:52:06.586837Z"
    },
    "papermill": {
     "duration": 9.750634,
     "end_time": "2021-01-06T05:52:06.587062",
     "exception": false,
     "start_time": "2021-01-06T05:51:56.836428",
     "status": "completed"
    },
    "tags": []
   },
   "outputs": [],
   "source": [
    "submission_df.to_csv(\"submission.csv\", index=False)"
   ]
  },
  {
   "cell_type": "code",
   "execution_count": null,
   "metadata": {},
   "outputs": [],
   "source": []
  }
 ],
 "metadata": {
  "kernelspec": {
   "display_name": "Python 3",
   "language": "python",
   "name": "python3"
  },
  "language_info": {
   "codemirror_mode": {
    "name": "ipython",
    "version": 3
   },
   "file_extension": ".py",
   "mimetype": "text/x-python",
   "name": "python",
   "nbconvert_exporter": "python",
   "pygments_lexer": "ipython3",
   "version": "3.7.9"
  },
  "papermill": {
   "duration": 13065.254265,
   "end_time": "2021-01-06T05:52:32.400246",
   "environment_variables": {},
   "exception": null,
   "input_path": "__notebook__.ipynb",
   "output_path": "__notebook__.ipynb",
   "parameters": {},
   "start_time": "2021-01-06T02:14:47.145981",
   "version": "2.1.0"
  }
 },
 "nbformat": 4,
 "nbformat_minor": 4
}
